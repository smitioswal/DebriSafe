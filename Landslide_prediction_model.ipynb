{
  "nbformat": 4,
  "nbformat_minor": 0,
  "metadata": {
    "colab": {
      "provenance": [],
      "authorship_tag": "ABX9TyM15WpTumFoCiIDdv1fHBOY"
    },
    "kernelspec": {
      "name": "python3",
      "display_name": "Python 3"
    },
    "language_info": {
      "name": "python"
    }
  },
  "cells": [
    {
      "cell_type": "code",
      "execution_count": 1,
      "metadata": {
        "id": "REn9XjXQcY6X"
      },
      "outputs": [],
      "source": [
        "import numpy as np\n",
        "import pandas as pd"
      ]
    },
    {
      "cell_type": "code",
      "source": [
        "from numpy import mean\n",
        "from numpy import std\n",
        "from sklearn.ensemble import GradientBoostingClassifier\n",
        "from lightgbm import LGBMClassifier\n",
        "from sklearn.model_selection import cross_val_score\n",
        "from sklearn.model_selection import RepeatedStratifiedKFold\n",
        "import matplotlib.pyplot as plt\n",
        "import seaborn as sns\n",
        "\n",
        "from sklearn.neighbors import KNeighborsClassifier\n",
        "from sklearn.metrics import matthews_corrcoef\n",
        "from sklearn.metrics import f1_score\n",
        "from sklearn.metrics import accuracy_score\n",
        "from sklearn.metrics import recall_score\n",
        "from sklearn.metrics import precision_score\n",
        "from sklearn.metrics import precision_recall_curve\n",
        "from sklearn.metrics import roc_auc_score\n",
        "\n",
        "from sklearn.metrics import classification_report\n",
        "from sklearn.model_selection import GridSearchCV"
      ],
      "metadata": {
        "id": "WebEEZgZcgJi"
      },
      "execution_count": 2,
      "outputs": []
    },
    {
      "cell_type": "markdown",
      "source": [
        "Exploratory data analysis"
      ],
      "metadata": {
        "id": "KwMB3vT1SeAY"
      }
    },
    {
      "cell_type": "code",
      "source": [
        "df = pd.read_csv('Complete-data.csv')\n",
        "df.head()"
      ],
      "metadata": {
        "colab": {
          "base_uri": "https://localhost:8080/",
          "height": 206
        },
        "id": "q1FI17RDckDC",
        "outputId": "af24cf76-12ec-43d0-f311-9b8e600725a1"
      },
      "execution_count": 4,
      "outputs": [
        {
          "output_type": "execute_result",
          "data": {
            "text/plain": [
              "   Landslide  Aspect  Curvature  Earthquake  Elevation  Flow  Lithology  NDVI  \\\n",
              "0          0       3          3           2          2     2          1     4   \n",
              "1          0       1          5           2          3     1          1     4   \n",
              "2          0       3          4           3          2     2          4     3   \n",
              "3          0       1          3           3          3     5          1     2   \n",
              "4          0       5          4           2          1     4          1     2   \n",
              "\n",
              "   NDWI  Plan  Precipitation  Profile  Slope  \n",
              "0     2     2              3        3      2  \n",
              "1     2     5              5        2      2  \n",
              "2     2     4              5        2      2  \n",
              "3     4     3              5        3      3  \n",
              "4     4     3              3        1      4  "
            ],
            "text/html": [
              "\n",
              "  <div id=\"df-a512c118-a41b-427c-af60-6047c4c7ddf0\">\n",
              "    <div class=\"colab-df-container\">\n",
              "      <div>\n",
              "<style scoped>\n",
              "    .dataframe tbody tr th:only-of-type {\n",
              "        vertical-align: middle;\n",
              "    }\n",
              "\n",
              "    .dataframe tbody tr th {\n",
              "        vertical-align: top;\n",
              "    }\n",
              "\n",
              "    .dataframe thead th {\n",
              "        text-align: right;\n",
              "    }\n",
              "</style>\n",
              "<table border=\"1\" class=\"dataframe\">\n",
              "  <thead>\n",
              "    <tr style=\"text-align: right;\">\n",
              "      <th></th>\n",
              "      <th>Landslide</th>\n",
              "      <th>Aspect</th>\n",
              "      <th>Curvature</th>\n",
              "      <th>Earthquake</th>\n",
              "      <th>Elevation</th>\n",
              "      <th>Flow</th>\n",
              "      <th>Lithology</th>\n",
              "      <th>NDVI</th>\n",
              "      <th>NDWI</th>\n",
              "      <th>Plan</th>\n",
              "      <th>Precipitation</th>\n",
              "      <th>Profile</th>\n",
              "      <th>Slope</th>\n",
              "    </tr>\n",
              "  </thead>\n",
              "  <tbody>\n",
              "    <tr>\n",
              "      <th>0</th>\n",
              "      <td>0</td>\n",
              "      <td>3</td>\n",
              "      <td>3</td>\n",
              "      <td>2</td>\n",
              "      <td>2</td>\n",
              "      <td>2</td>\n",
              "      <td>1</td>\n",
              "      <td>4</td>\n",
              "      <td>2</td>\n",
              "      <td>2</td>\n",
              "      <td>3</td>\n",
              "      <td>3</td>\n",
              "      <td>2</td>\n",
              "    </tr>\n",
              "    <tr>\n",
              "      <th>1</th>\n",
              "      <td>0</td>\n",
              "      <td>1</td>\n",
              "      <td>5</td>\n",
              "      <td>2</td>\n",
              "      <td>3</td>\n",
              "      <td>1</td>\n",
              "      <td>1</td>\n",
              "      <td>4</td>\n",
              "      <td>2</td>\n",
              "      <td>5</td>\n",
              "      <td>5</td>\n",
              "      <td>2</td>\n",
              "      <td>2</td>\n",
              "    </tr>\n",
              "    <tr>\n",
              "      <th>2</th>\n",
              "      <td>0</td>\n",
              "      <td>3</td>\n",
              "      <td>4</td>\n",
              "      <td>3</td>\n",
              "      <td>2</td>\n",
              "      <td>2</td>\n",
              "      <td>4</td>\n",
              "      <td>3</td>\n",
              "      <td>2</td>\n",
              "      <td>4</td>\n",
              "      <td>5</td>\n",
              "      <td>2</td>\n",
              "      <td>2</td>\n",
              "    </tr>\n",
              "    <tr>\n",
              "      <th>3</th>\n",
              "      <td>0</td>\n",
              "      <td>1</td>\n",
              "      <td>3</td>\n",
              "      <td>3</td>\n",
              "      <td>3</td>\n",
              "      <td>5</td>\n",
              "      <td>1</td>\n",
              "      <td>2</td>\n",
              "      <td>4</td>\n",
              "      <td>3</td>\n",
              "      <td>5</td>\n",
              "      <td>3</td>\n",
              "      <td>3</td>\n",
              "    </tr>\n",
              "    <tr>\n",
              "      <th>4</th>\n",
              "      <td>0</td>\n",
              "      <td>5</td>\n",
              "      <td>4</td>\n",
              "      <td>2</td>\n",
              "      <td>1</td>\n",
              "      <td>4</td>\n",
              "      <td>1</td>\n",
              "      <td>2</td>\n",
              "      <td>4</td>\n",
              "      <td>3</td>\n",
              "      <td>3</td>\n",
              "      <td>1</td>\n",
              "      <td>4</td>\n",
              "    </tr>\n",
              "  </tbody>\n",
              "</table>\n",
              "</div>\n",
              "      <button class=\"colab-df-convert\" onclick=\"convertToInteractive('df-a512c118-a41b-427c-af60-6047c4c7ddf0')\"\n",
              "              title=\"Convert this dataframe to an interactive table.\"\n",
              "              style=\"display:none;\">\n",
              "        \n",
              "  <svg xmlns=\"http://www.w3.org/2000/svg\" height=\"24px\"viewBox=\"0 0 24 24\"\n",
              "       width=\"24px\">\n",
              "    <path d=\"M0 0h24v24H0V0z\" fill=\"none\"/>\n",
              "    <path d=\"M18.56 5.44l.94 2.06.94-2.06 2.06-.94-2.06-.94-.94-2.06-.94 2.06-2.06.94zm-11 1L8.5 8.5l.94-2.06 2.06-.94-2.06-.94L8.5 2.5l-.94 2.06-2.06.94zm10 10l.94 2.06.94-2.06 2.06-.94-2.06-.94-.94-2.06-.94 2.06-2.06.94z\"/><path d=\"M17.41 7.96l-1.37-1.37c-.4-.4-.92-.59-1.43-.59-.52 0-1.04.2-1.43.59L10.3 9.45l-7.72 7.72c-.78.78-.78 2.05 0 2.83L4 21.41c.39.39.9.59 1.41.59.51 0 1.02-.2 1.41-.59l7.78-7.78 2.81-2.81c.8-.78.8-2.07 0-2.86zM5.41 20L4 18.59l7.72-7.72 1.47 1.35L5.41 20z\"/>\n",
              "  </svg>\n",
              "      </button>\n",
              "      \n",
              "  <style>\n",
              "    .colab-df-container {\n",
              "      display:flex;\n",
              "      flex-wrap:wrap;\n",
              "      gap: 12px;\n",
              "    }\n",
              "\n",
              "    .colab-df-convert {\n",
              "      background-color: #E8F0FE;\n",
              "      border: none;\n",
              "      border-radius: 50%;\n",
              "      cursor: pointer;\n",
              "      display: none;\n",
              "      fill: #1967D2;\n",
              "      height: 32px;\n",
              "      padding: 0 0 0 0;\n",
              "      width: 32px;\n",
              "    }\n",
              "\n",
              "    .colab-df-convert:hover {\n",
              "      background-color: #E2EBFA;\n",
              "      box-shadow: 0px 1px 2px rgba(60, 64, 67, 0.3), 0px 1px 3px 1px rgba(60, 64, 67, 0.15);\n",
              "      fill: #174EA6;\n",
              "    }\n",
              "\n",
              "    [theme=dark] .colab-df-convert {\n",
              "      background-color: #3B4455;\n",
              "      fill: #D2E3FC;\n",
              "    }\n",
              "\n",
              "    [theme=dark] .colab-df-convert:hover {\n",
              "      background-color: #434B5C;\n",
              "      box-shadow: 0px 1px 3px 1px rgba(0, 0, 0, 0.15);\n",
              "      filter: drop-shadow(0px 1px 2px rgba(0, 0, 0, 0.3));\n",
              "      fill: #FFFFFF;\n",
              "    }\n",
              "  </style>\n",
              "\n",
              "      <script>\n",
              "        const buttonEl =\n",
              "          document.querySelector('#df-a512c118-a41b-427c-af60-6047c4c7ddf0 button.colab-df-convert');\n",
              "        buttonEl.style.display =\n",
              "          google.colab.kernel.accessAllowed ? 'block' : 'none';\n",
              "\n",
              "        async function convertToInteractive(key) {\n",
              "          const element = document.querySelector('#df-a512c118-a41b-427c-af60-6047c4c7ddf0');\n",
              "          const dataTable =\n",
              "            await google.colab.kernel.invokeFunction('convertToInteractive',\n",
              "                                                     [key], {});\n",
              "          if (!dataTable) return;\n",
              "\n",
              "          const docLinkHtml = 'Like what you see? Visit the ' +\n",
              "            '<a target=\"_blank\" href=https://colab.research.google.com/notebooks/data_table.ipynb>data table notebook</a>'\n",
              "            + ' to learn more about interactive tables.';\n",
              "          element.innerHTML = '';\n",
              "          dataTable['output_type'] = 'display_data';\n",
              "          await google.colab.output.renderOutput(dataTable, element);\n",
              "          const docLink = document.createElement('div');\n",
              "          docLink.innerHTML = docLinkHtml;\n",
              "          element.appendChild(docLink);\n",
              "        }\n",
              "      </script>\n",
              "    </div>\n",
              "  </div>\n",
              "  "
            ]
          },
          "metadata": {},
          "execution_count": 4
        }
      ]
    },
    {
      "cell_type": "code",
      "source": [
        "df.info()"
      ],
      "metadata": {
        "colab": {
          "base_uri": "https://localhost:8080/"
        },
        "id": "9O5okJYvdpNA",
        "outputId": "b2377f36-24e0-4186-af3e-8c4c6374210d"
      },
      "execution_count": 5,
      "outputs": [
        {
          "output_type": "stream",
          "name": "stdout",
          "text": [
            "<class 'pandas.core.frame.DataFrame'>\n",
            "RangeIndex: 1212 entries, 0 to 1211\n",
            "Data columns (total 13 columns):\n",
            " #   Column         Non-Null Count  Dtype\n",
            "---  ------         --------------  -----\n",
            " 0   Landslide      1212 non-null   int64\n",
            " 1   Aspect         1212 non-null   int64\n",
            " 2   Curvature      1212 non-null   int64\n",
            " 3   Earthquake     1212 non-null   int64\n",
            " 4   Elevation      1212 non-null   int64\n",
            " 5   Flow           1212 non-null   int64\n",
            " 6   Lithology      1212 non-null   int64\n",
            " 7   NDVI           1212 non-null   int64\n",
            " 8   NDWI           1212 non-null   int64\n",
            " 9   Plan           1212 non-null   int64\n",
            " 10  Precipitation  1212 non-null   int64\n",
            " 11  Profile        1212 non-null   int64\n",
            " 12  Slope          1212 non-null   int64\n",
            "dtypes: int64(13)\n",
            "memory usage: 123.2 KB\n"
          ]
        }
      ]
    },
    {
      "cell_type": "code",
      "source": [
        "temp_cols=df.columns.tolist()\n",
        "new_cols=temp_cols[1:] + temp_cols[0:1]\n",
        "df=df[new_cols]"
      ],
      "metadata": {
        "id": "16Ak-b3rdsXl"
      },
      "execution_count": 6,
      "outputs": []
    },
    {
      "cell_type": "code",
      "source": [
        "df.describe().round(2)"
      ],
      "metadata": {
        "colab": {
          "base_uri": "https://localhost:8080/",
          "height": 300
        },
        "id": "3_yHZZj3duor",
        "outputId": "ac0ca329-15a0-4f45-b608-1da189f7609c"
      },
      "execution_count": 7,
      "outputs": [
        {
          "output_type": "execute_result",
          "data": {
            "text/plain": [
              "        Aspect  Curvature  Earthquake  Elevation     Flow  Lithology     NDVI  \\\n",
              "count  1212.00    1212.00     1212.00    1212.00  1212.00    1212.00  1212.00   \n",
              "mean      2.96       2.98        2.10       2.44     2.34       1.95     3.04   \n",
              "std       1.15       1.10        0.67       1.24     1.11       1.42     1.24   \n",
              "min       1.00       1.00        1.00       1.00     1.00       1.00     1.00   \n",
              "25%       2.00       2.00        2.00       1.00     2.00       1.00     2.00   \n",
              "50%       3.00       3.00        2.00       2.00     2.00       1.00     3.00   \n",
              "75%       4.00       4.00        3.00       3.00     3.00       3.00     4.00   \n",
              "max       5.00       5.00        3.00       5.00     5.00       6.00     5.00   \n",
              "\n",
              "          NDWI     Plan  Precipitation  Profile    Slope  Landslide  \n",
              "count  1212.00  1212.00        1212.00  1212.00  1212.00     1212.0  \n",
              "mean      2.77     3.06           3.81     3.26     2.81        0.5  \n",
              "std       1.30     1.06           1.35     1.04     1.19        0.5  \n",
              "min       1.00     1.00           1.00     1.00     1.00        0.0  \n",
              "25%       2.00     2.00           3.00     3.00     2.00        0.0  \n",
              "50%       3.00     3.00           4.00     3.00     3.00        0.5  \n",
              "75%       4.00     4.00           5.00     4.00     4.00        1.0  \n",
              "max       5.00     5.00           5.00     5.00     5.00        1.0  "
            ],
            "text/html": [
              "\n",
              "  <div id=\"df-fc392e09-c932-493d-8d8e-a47fbc6d7218\">\n",
              "    <div class=\"colab-df-container\">\n",
              "      <div>\n",
              "<style scoped>\n",
              "    .dataframe tbody tr th:only-of-type {\n",
              "        vertical-align: middle;\n",
              "    }\n",
              "\n",
              "    .dataframe tbody tr th {\n",
              "        vertical-align: top;\n",
              "    }\n",
              "\n",
              "    .dataframe thead th {\n",
              "        text-align: right;\n",
              "    }\n",
              "</style>\n",
              "<table border=\"1\" class=\"dataframe\">\n",
              "  <thead>\n",
              "    <tr style=\"text-align: right;\">\n",
              "      <th></th>\n",
              "      <th>Aspect</th>\n",
              "      <th>Curvature</th>\n",
              "      <th>Earthquake</th>\n",
              "      <th>Elevation</th>\n",
              "      <th>Flow</th>\n",
              "      <th>Lithology</th>\n",
              "      <th>NDVI</th>\n",
              "      <th>NDWI</th>\n",
              "      <th>Plan</th>\n",
              "      <th>Precipitation</th>\n",
              "      <th>Profile</th>\n",
              "      <th>Slope</th>\n",
              "      <th>Landslide</th>\n",
              "    </tr>\n",
              "  </thead>\n",
              "  <tbody>\n",
              "    <tr>\n",
              "      <th>count</th>\n",
              "      <td>1212.00</td>\n",
              "      <td>1212.00</td>\n",
              "      <td>1212.00</td>\n",
              "      <td>1212.00</td>\n",
              "      <td>1212.00</td>\n",
              "      <td>1212.00</td>\n",
              "      <td>1212.00</td>\n",
              "      <td>1212.00</td>\n",
              "      <td>1212.00</td>\n",
              "      <td>1212.00</td>\n",
              "      <td>1212.00</td>\n",
              "      <td>1212.00</td>\n",
              "      <td>1212.0</td>\n",
              "    </tr>\n",
              "    <tr>\n",
              "      <th>mean</th>\n",
              "      <td>2.96</td>\n",
              "      <td>2.98</td>\n",
              "      <td>2.10</td>\n",
              "      <td>2.44</td>\n",
              "      <td>2.34</td>\n",
              "      <td>1.95</td>\n",
              "      <td>3.04</td>\n",
              "      <td>2.77</td>\n",
              "      <td>3.06</td>\n",
              "      <td>3.81</td>\n",
              "      <td>3.26</td>\n",
              "      <td>2.81</td>\n",
              "      <td>0.5</td>\n",
              "    </tr>\n",
              "    <tr>\n",
              "      <th>std</th>\n",
              "      <td>1.15</td>\n",
              "      <td>1.10</td>\n",
              "      <td>0.67</td>\n",
              "      <td>1.24</td>\n",
              "      <td>1.11</td>\n",
              "      <td>1.42</td>\n",
              "      <td>1.24</td>\n",
              "      <td>1.30</td>\n",
              "      <td>1.06</td>\n",
              "      <td>1.35</td>\n",
              "      <td>1.04</td>\n",
              "      <td>1.19</td>\n",
              "      <td>0.5</td>\n",
              "    </tr>\n",
              "    <tr>\n",
              "      <th>min</th>\n",
              "      <td>1.00</td>\n",
              "      <td>1.00</td>\n",
              "      <td>1.00</td>\n",
              "      <td>1.00</td>\n",
              "      <td>1.00</td>\n",
              "      <td>1.00</td>\n",
              "      <td>1.00</td>\n",
              "      <td>1.00</td>\n",
              "      <td>1.00</td>\n",
              "      <td>1.00</td>\n",
              "      <td>1.00</td>\n",
              "      <td>1.00</td>\n",
              "      <td>0.0</td>\n",
              "    </tr>\n",
              "    <tr>\n",
              "      <th>25%</th>\n",
              "      <td>2.00</td>\n",
              "      <td>2.00</td>\n",
              "      <td>2.00</td>\n",
              "      <td>1.00</td>\n",
              "      <td>2.00</td>\n",
              "      <td>1.00</td>\n",
              "      <td>2.00</td>\n",
              "      <td>2.00</td>\n",
              "      <td>2.00</td>\n",
              "      <td>3.00</td>\n",
              "      <td>3.00</td>\n",
              "      <td>2.00</td>\n",
              "      <td>0.0</td>\n",
              "    </tr>\n",
              "    <tr>\n",
              "      <th>50%</th>\n",
              "      <td>3.00</td>\n",
              "      <td>3.00</td>\n",
              "      <td>2.00</td>\n",
              "      <td>2.00</td>\n",
              "      <td>2.00</td>\n",
              "      <td>1.00</td>\n",
              "      <td>3.00</td>\n",
              "      <td>3.00</td>\n",
              "      <td>3.00</td>\n",
              "      <td>4.00</td>\n",
              "      <td>3.00</td>\n",
              "      <td>3.00</td>\n",
              "      <td>0.5</td>\n",
              "    </tr>\n",
              "    <tr>\n",
              "      <th>75%</th>\n",
              "      <td>4.00</td>\n",
              "      <td>4.00</td>\n",
              "      <td>3.00</td>\n",
              "      <td>3.00</td>\n",
              "      <td>3.00</td>\n",
              "      <td>3.00</td>\n",
              "      <td>4.00</td>\n",
              "      <td>4.00</td>\n",
              "      <td>4.00</td>\n",
              "      <td>5.00</td>\n",
              "      <td>4.00</td>\n",
              "      <td>4.00</td>\n",
              "      <td>1.0</td>\n",
              "    </tr>\n",
              "    <tr>\n",
              "      <th>max</th>\n",
              "      <td>5.00</td>\n",
              "      <td>5.00</td>\n",
              "      <td>3.00</td>\n",
              "      <td>5.00</td>\n",
              "      <td>5.00</td>\n",
              "      <td>6.00</td>\n",
              "      <td>5.00</td>\n",
              "      <td>5.00</td>\n",
              "      <td>5.00</td>\n",
              "      <td>5.00</td>\n",
              "      <td>5.00</td>\n",
              "      <td>5.00</td>\n",
              "      <td>1.0</td>\n",
              "    </tr>\n",
              "  </tbody>\n",
              "</table>\n",
              "</div>\n",
              "      <button class=\"colab-df-convert\" onclick=\"convertToInteractive('df-fc392e09-c932-493d-8d8e-a47fbc6d7218')\"\n",
              "              title=\"Convert this dataframe to an interactive table.\"\n",
              "              style=\"display:none;\">\n",
              "        \n",
              "  <svg xmlns=\"http://www.w3.org/2000/svg\" height=\"24px\"viewBox=\"0 0 24 24\"\n",
              "       width=\"24px\">\n",
              "    <path d=\"M0 0h24v24H0V0z\" fill=\"none\"/>\n",
              "    <path d=\"M18.56 5.44l.94 2.06.94-2.06 2.06-.94-2.06-.94-.94-2.06-.94 2.06-2.06.94zm-11 1L8.5 8.5l.94-2.06 2.06-.94-2.06-.94L8.5 2.5l-.94 2.06-2.06.94zm10 10l.94 2.06.94-2.06 2.06-.94-2.06-.94-.94-2.06-.94 2.06-2.06.94z\"/><path d=\"M17.41 7.96l-1.37-1.37c-.4-.4-.92-.59-1.43-.59-.52 0-1.04.2-1.43.59L10.3 9.45l-7.72 7.72c-.78.78-.78 2.05 0 2.83L4 21.41c.39.39.9.59 1.41.59.51 0 1.02-.2 1.41-.59l7.78-7.78 2.81-2.81c.8-.78.8-2.07 0-2.86zM5.41 20L4 18.59l7.72-7.72 1.47 1.35L5.41 20z\"/>\n",
              "  </svg>\n",
              "      </button>\n",
              "      \n",
              "  <style>\n",
              "    .colab-df-container {\n",
              "      display:flex;\n",
              "      flex-wrap:wrap;\n",
              "      gap: 12px;\n",
              "    }\n",
              "\n",
              "    .colab-df-convert {\n",
              "      background-color: #E8F0FE;\n",
              "      border: none;\n",
              "      border-radius: 50%;\n",
              "      cursor: pointer;\n",
              "      display: none;\n",
              "      fill: #1967D2;\n",
              "      height: 32px;\n",
              "      padding: 0 0 0 0;\n",
              "      width: 32px;\n",
              "    }\n",
              "\n",
              "    .colab-df-convert:hover {\n",
              "      background-color: #E2EBFA;\n",
              "      box-shadow: 0px 1px 2px rgba(60, 64, 67, 0.3), 0px 1px 3px 1px rgba(60, 64, 67, 0.15);\n",
              "      fill: #174EA6;\n",
              "    }\n",
              "\n",
              "    [theme=dark] .colab-df-convert {\n",
              "      background-color: #3B4455;\n",
              "      fill: #D2E3FC;\n",
              "    }\n",
              "\n",
              "    [theme=dark] .colab-df-convert:hover {\n",
              "      background-color: #434B5C;\n",
              "      box-shadow: 0px 1px 3px 1px rgba(0, 0, 0, 0.15);\n",
              "      filter: drop-shadow(0px 1px 2px rgba(0, 0, 0, 0.3));\n",
              "      fill: #FFFFFF;\n",
              "    }\n",
              "  </style>\n",
              "\n",
              "      <script>\n",
              "        const buttonEl =\n",
              "          document.querySelector('#df-fc392e09-c932-493d-8d8e-a47fbc6d7218 button.colab-df-convert');\n",
              "        buttonEl.style.display =\n",
              "          google.colab.kernel.accessAllowed ? 'block' : 'none';\n",
              "\n",
              "        async function convertToInteractive(key) {\n",
              "          const element = document.querySelector('#df-fc392e09-c932-493d-8d8e-a47fbc6d7218');\n",
              "          const dataTable =\n",
              "            await google.colab.kernel.invokeFunction('convertToInteractive',\n",
              "                                                     [key], {});\n",
              "          if (!dataTable) return;\n",
              "\n",
              "          const docLinkHtml = 'Like what you see? Visit the ' +\n",
              "            '<a target=\"_blank\" href=https://colab.research.google.com/notebooks/data_table.ipynb>data table notebook</a>'\n",
              "            + ' to learn more about interactive tables.';\n",
              "          element.innerHTML = '';\n",
              "          dataTable['output_type'] = 'display_data';\n",
              "          await google.colab.output.renderOutput(dataTable, element);\n",
              "          const docLink = document.createElement('div');\n",
              "          docLink.innerHTML = docLinkHtml;\n",
              "          element.appendChild(docLink);\n",
              "        }\n",
              "      </script>\n",
              "    </div>\n",
              "  </div>\n",
              "  "
            ]
          },
          "metadata": {},
          "execution_count": 7
        }
      ]
    },
    {
      "cell_type": "code",
      "source": [
        "for column in df.columns[0:]:\n",
        "    print(column, ': ', len(df[column].unique()), ' labels')"
      ],
      "metadata": {
        "colab": {
          "base_uri": "https://localhost:8080/"
        },
        "id": "eTJe3VdKdxoE",
        "outputId": "158278f4-8f16-4982-df6b-12ef8de0cc34"
      },
      "execution_count": 8,
      "outputs": [
        {
          "output_type": "stream",
          "name": "stdout",
          "text": [
            "Aspect :  5  labels\n",
            "Curvature :  5  labels\n",
            "Earthquake :  3  labels\n",
            "Elevation :  5  labels\n",
            "Flow :  5  labels\n",
            "Lithology :  6  labels\n",
            "NDVI :  5  labels\n",
            "NDWI :  5  labels\n",
            "Plan :  5  labels\n",
            "Precipitation :  5  labels\n",
            "Profile :  5  labels\n",
            "Slope :  5  labels\n",
            "Landslide :  2  labels\n"
          ]
        }
      ]
    },
    {
      "cell_type": "code",
      "source": [
        "landslide_count = df['Landslide'].value_counts()\n",
        "sns.set(style = \"darkgrid\")\n",
        "sns.barplot(x = landslide_count.index, y = landslide_count.values, alpha = 0.9)\n",
        "plt.title('Frequency Distribution of Landslides')\n",
        "plt.ylabel('Number of Occurrences', fontsize=12)\n",
        "plt.xlabel('Landslide', fontsize=12)\n",
        "plt.show()\n",
        "\n",
        "plt.savefig('bar1.eps', format='eps')"
      ],
      "metadata": {
        "colab": {
          "base_uri": "https://localhost:8080/",
          "height": 498
        },
        "id": "XM1LDCdAdz8e",
        "outputId": "dd8cc856-5abc-4e0c-adc5-715b112df033"
      },
      "execution_count": 10,
      "outputs": [
        {
          "output_type": "display_data",
          "data": {
            "text/plain": [
              "<Figure size 640x480 with 1 Axes>"
            ],
            "image/png": "[encoded data removed]"
          },
          "metadata": {}
        },
        {
          "output_type": "display_data",
          "data": {
            "text/plain": [
              "<Figure size 640x480 with 0 Axes>"
            ]
          },
          "metadata": {}
        }
      ]
    },
    {
      "cell_type": "code",
      "source": [
        "lith_count = df['Lithology'].value_counts()\n",
        "sns.set(style=\"darkgrid\")\n",
        "sns.barplot(x=lith_count.index, y=lith_count.values, alpha=0.9)\n",
        "plt.title('Frequency Distribution of Lithology')\n",
        "plt.ylabel('Number of Occurrences', fontsize=12)\n",
        "plt.xlabel('Lithology', fontsize=12)\n",
        "plt.show()\n",
        "\n",
        "plt.savefig('bar3.eps', format='eps')"
      ],
      "metadata": {
        "colab": {
          "base_uri": "https://localhost:8080/",
          "height": 498
        },
        "id": "kANzXj8WeHoX",
        "outputId": "fb443b76-e7cc-47d3-c463-966fa9accef9"
      },
      "execution_count": 12,
      "outputs": [
        {
          "output_type": "display_data",
          "data": {
            "text/plain": [
              "<Figure size 640x480 with 1 Axes>"
            ],
            "image/png": "[encoded data removed]"
          },
          "metadata": {}
        },
        {
          "output_type": "display_data",
          "data": {
            "text/plain": [
              "<Figure size 640x480 with 0 Axes>"
            ]
          },
          "metadata": {}
        }
      ]
    },
    {
      "cell_type": "code",
      "source": [
        "sns.catplot(x=\"Landslide\", y=\"NDWI\", kind=\"swarm\", data=df)\n",
        "\n",
        "plt.savefig('box1.eps', format='eps')"
      ],
      "metadata": {
        "colab": {
          "base_uri": "https://localhost:8080/",
          "height": 592
        },
        "id": "YC1H_JzReiyM",
        "outputId": "dad98f6e-c5e5-4def-fb90-bae9883b3bad"
      },
      "execution_count": 16,
      "outputs": [
        {
          "output_type": "stream",
          "name": "stderr",
          "text": [
            "/usr/local/lib/python3.10/dist-packages/seaborn/categorical.py:3544: UserWarning: 66.2% of the points cannot be placed; you may want to decrease the size of the markers or use stripplot.\n",
            "  warnings.warn(msg, UserWarning)\n",
            "/usr/local/lib/python3.10/dist-packages/seaborn/categorical.py:3544: UserWarning: 81.0% of the points cannot be placed; you may want to decrease the size of the markers or use stripplot.\n",
            "  warnings.warn(msg, UserWarning)\n"
          ]
        },
        {
          "output_type": "display_data",
          "data": {
            "text/plain": [
              "<Figure size 500x500 with 1 Axes>"
            ],
            "image/png": "[encoded data removed]"
          },
          "metadata": {}
        }
      ]
    },
    {
      "cell_type": "markdown",
      "source": [
        "Feature Selection"
      ],
      "metadata": {
        "id": "jgVm5U3cSs70"
      }
    },
    {
      "cell_type": "code",
      "source": [
        "from matplotlib.colors import ListedColormap\n",
        "from sklearn.model_selection import train_test_split\n",
        "from sklearn.preprocessing import StandardScaler\n",
        "from sklearn.datasets import make_moons, make_circles, make_classification\n",
        "from sklearn.linear_model import LogisticRegression\n",
        "from sklearn.model_selection import GridSearchCV\n",
        "from sklearn.pipeline import make_pipeline\n",
        "from sklearn.preprocessing import KBinsDiscretizer\n",
        "from sklearn.svm import SVC, LinearSVC\n",
        "from sklearn.ensemble import GradientBoostingClassifier\n",
        "from sklearn.utils._testing import ignore_warnings\n",
        "from sklearn.exceptions import ConvergenceWarning\n",
        "from sklearn import ensemble"
      ],
      "metadata": {
        "id": "4pxh81BvfV_g"
      },
      "execution_count": 17,
      "outputs": []
    },
    {
      "cell_type": "code",
      "source": [
        "!pip install pca"
      ],
      "metadata": {
        "colab": {
          "base_uri": "https://localhost:8080/"
        },
        "id": "7aUcbgA1fXP9",
        "outputId": "a819974b-44c0-4e36-e4cd-431e4883a175"
      },
      "execution_count": 18,
      "outputs": [
        {
          "output_type": "stream",
          "name": "stdout",
          "text": [
            "Collecting pca\n",
            "  Downloading pca-2.0.3-py3-none-any.whl (34 kB)\n",
            "Collecting datazets (from pca)\n",
            "  Downloading datazets-0.1.6-py3-none-any.whl (10 kB)\n",
            "Requirement already satisfied: statsmodels in /usr/local/lib/python3.10/dist-packages (from pca) (0.13.5)\n",
            "Requirement already satisfied: matplotlib in /usr/local/lib/python3.10/dist-packages (from pca) (3.7.1)\n",
            "Requirement already satisfied: numpy in /usr/local/lib/python3.10/dist-packages (from pca) (1.22.4)\n",
            "Requirement already satisfied: scikit-learn in /usr/local/lib/python3.10/dist-packages (from pca) (1.3.0)\n",
            "Requirement already satisfied: scipy in /usr/local/lib/python3.10/dist-packages (from pca) (1.10.1)\n",
            "Collecting colourmap>=1.1.14 (from pca)\n",
            "  Downloading colourmap-1.1.14-py3-none-any.whl (9.2 kB)\n",
            "Requirement already satisfied: pandas in /usr/local/lib/python3.10/dist-packages (from pca) (1.5.3)\n",
            "Collecting scatterd>=1.3.1 (from pca)\n",
            "  Downloading scatterd-1.3.5-py3-none-any.whl (11 kB)\n",
            "Collecting adjusttext (from pca)\n",
            "  Downloading adjustText-0.8-py3-none-any.whl (9.1 kB)\n",
            "Requirement already satisfied: seaborn in /usr/local/lib/python3.10/dist-packages (from scatterd>=1.3.1->pca) (0.12.2)\n",
            "Requirement already satisfied: requests in /usr/local/lib/python3.10/dist-packages (from scatterd>=1.3.1->pca) (2.27.1)\n",
            "Requirement already satisfied: contourpy>=1.0.1 in /usr/local/lib/python3.10/dist-packages (from matplotlib->pca) (1.1.0)\n",
            "Requirement already satisfied: cycler>=0.10 in /usr/local/lib/python3.10/dist-packages (from matplotlib->pca) (0.11.0)\n",
            "Requirement already satisfied: fonttools>=4.22.0 in /usr/local/lib/python3.10/dist-packages (from matplotlib->pca) (4.40.0)\n",
            "Requirement already satisfied: kiwisolver>=1.0.1 in /usr/local/lib/python3.10/dist-packages (from matplotlib->pca) (1.4.4)\n",
            "Requirement already satisfied: packaging>=20.0 in /usr/local/lib/python3.10/dist-packages (from matplotlib->pca) (23.1)\n",
            "Requirement already satisfied: pillow>=6.2.0 in /usr/local/lib/python3.10/dist-packages (from matplotlib->pca) (8.4.0)\n",
            "Requirement already satisfied: pyparsing>=2.3.1 in /usr/local/lib/python3.10/dist-packages (from matplotlib->pca) (3.1.0)\n",
            "Requirement already satisfied: python-dateutil>=2.7 in /usr/local/lib/python3.10/dist-packages (from matplotlib->pca) (2.8.2)\n",
            "Requirement already satisfied: pytz>=2020.1 in /usr/local/lib/python3.10/dist-packages (from pandas->pca) (2022.7.1)\n",
            "Requirement already satisfied: joblib>=1.1.1 in /usr/local/lib/python3.10/dist-packages (from scikit-learn->pca) (1.2.0)\n",
            "Requirement already satisfied: threadpoolctl>=2.0.0 in /usr/local/lib/python3.10/dist-packages (from scikit-learn->pca) (3.1.0)\n",
            "Requirement already satisfied: patsy>=0.5.2 in /usr/local/lib/python3.10/dist-packages (from statsmodels->pca) (0.5.3)\n",
            "Requirement already satisfied: six in /usr/local/lib/python3.10/dist-packages (from patsy>=0.5.2->statsmodels->pca) (1.16.0)\n",
            "Requirement already satisfied: urllib3<1.27,>=1.21.1 in /usr/local/lib/python3.10/dist-packages (from requests->scatterd>=1.3.1->pca) (1.26.16)\n",
            "Requirement already satisfied: certifi>=2017.4.17 in /usr/local/lib/python3.10/dist-packages (from requests->scatterd>=1.3.1->pca) (2023.5.7)\n",
            "Requirement already satisfied: charset-normalizer~=2.0.0 in /usr/local/lib/python3.10/dist-packages (from requests->scatterd>=1.3.1->pca) (2.0.12)\n",
            "Requirement already satisfied: idna<4,>=2.5 in /usr/local/lib/python3.10/dist-packages (from requests->scatterd>=1.3.1->pca) (3.4)\n",
            "Installing collected packages: datazets, colourmap, adjusttext, scatterd, pca\n",
            "Successfully installed adjusttext-0.8 colourmap-1.1.14 datazets-0.1.6 pca-2.0.3 scatterd-1.3.5\n"
          ]
        }
      ]
    },
    {
      "cell_type": "code",
      "source": [
        "from sklearn.preprocessing import StandardScaler\n"
      ],
      "metadata": {
        "id": "1TwxdKlzfaZk"
      },
      "execution_count": 19,
      "outputs": []
    },
    {
      "cell_type": "code",
      "source": [
        "from pca import pca\n",
        "\n",
        "X_pca = df.loc[:, df.columns != 'Landslide']\n",
        "model = pca()\n",
        "out = model.fit_transform(X_pca)\n",
        "\n",
        "print(out['topfeat'])\n"
      ],
      "metadata": {
        "colab": {
          "base_uri": "https://localhost:8080/"
        },
        "id": "NlM1qfjXfehm",
        "outputId": "fa77e1c6-4208-45ce-a993-3b8c9a777c34"
      },
      "execution_count": 20,
      "outputs": [
        {
          "output_type": "stream",
          "name": "stdout",
          "text": [
            "[pca] >Extracting column labels from dataframe.\n",
            "[pca] >Extracting row labels from dataframe.\n",
            "[pca] >The PCA reduction is performed to capture [95.0%] explained variance using the [12] columns of the input data.\n",
            "[pca] >Fit using PCA.\n",
            "[pca] >Compute loadings and PCs.\n",
            "[pca] >Compute explained variance.\n",
            "[pca] >Number of components is [9] that covers the [95.00%] explained variance.\n",
            "[pca] >The PCA reduction is performed on the [12] columns of the input dataframe.\n",
            "[pca] >Fit using PCA.\n",
            "[pca] >Compute loadings and PCs.\n",
            "[pca] >Outlier detection using Hotelling T2 test with alpha=[0.05] and n_components=[9]\n",
            "[pca] >Multiple test correction applied for Hotelling T2 test: [fdr_bh]\n",
            "[pca] >Outlier detection using SPE/DmodX with n_std=[3]\n",
            "     PC        feature   loading  type\n",
            "0   PC1           NDWI  0.619537  best\n",
            "1   PC2      Curvature  0.490741  best\n",
            "2   PC3      Lithology  0.544986  best\n",
            "3   PC4  Precipitation -0.817487  best\n",
            "4   PC5         Aspect -0.663196  best\n",
            "5   PC6         Aspect -0.697202  best\n",
            "6   PC7           Flow -0.775052  best\n",
            "7   PC8      Elevation  0.686948  best\n",
            "8   PC9        Profile -0.712427  best\n",
            "9   PC4     Earthquake -0.353191  weak\n",
            "10  PC1           NDVI -0.587430  weak\n",
            "11  PC9           Plan -0.676996  weak\n",
            "12  PC5          Slope -0.595420  weak\n"
          ]
        }
      ]
    },
    {
      "cell_type": "code",
      "source": [
        "model.plot()\n",
        "\n",
        "plt.savefig('pca1.eps', format='eps')"
      ],
      "metadata": {
        "colab": {
          "base_uri": "https://localhost:8080/",
          "height": 924
        },
        "id": "BaAMppBJfgLF",
        "outputId": "e4e632d6-e89f-4274-b457-2cfb4986c4b8"
      },
      "execution_count": 21,
      "outputs": [
        {
          "output_type": "stream",
          "name": "stderr",
          "text": [
            "[datazets] >WARNING> The PostScript backend does not support transparency; partially transparent artists will be rendered opaque.\n"
          ]
        },
        {
          "output_type": "display_data",
          "data": {
            "text/plain": [
              "<Figure size 1500x1000 with 1 Axes>"
            ],
            "image/png": "[encoded data removed]"
          },
          "metadata": {}
        }
      ]
    },
    {
      "cell_type": "markdown",
      "source": [
        "Baseline model"
      ],
      "metadata": {
        "id": "PFNqI2WqS1nQ"
      }
    },
    {
      "cell_type": "code",
      "source": [
        "y = df.Landslide\n",
        "df1 = df.loc[:, df.columns != 'Landslide']\n",
        "X_train, X_test, y_train, y_test = train_test_split(df1, y, test_size=0.2)"
      ],
      "metadata": {
        "id": "xtmWrCpCflvl"
      },
      "execution_count": 22,
      "outputs": []
    },
    {
      "cell_type": "code",
      "source": [
        "baseline_gbm = GradientBoostingClassifier(learning_rate=0.1, n_estimators=100,max_depth=3, min_samples_split=2,\n",
        "                                          min_samples_leaf=1, subsample=1,max_features='sqrt', random_state=10)\n",
        "baseline_gbm.fit(X_train,y_train)\n",
        "predictors_gbm=list(X_train)\n",
        "\n",
        "print('Accuracy of the GBM on test set: {:.3f}'.format(baseline_gbm.score(X_test, y_test)))\n",
        "pred_gbm=baseline_gbm.predict(X_test)\n",
        "print(classification_report(y_test, pred_gbm))"
      ],
      "metadata": {
        "colab": {
          "base_uri": "https://localhost:8080/"
        },
        "id": "5T0kNjojfocf",
        "outputId": "1f7f18ea-e4e4-48a2-92a1-91f56366d1ad"
      },
      "execution_count": 23,
      "outputs": [
        {
          "output_type": "stream",
          "name": "stdout",
          "text": [
            "Accuracy of the GBM on test set: 0.790\n",
            "              precision    recall  f1-score   support\n",
            "\n",
            "           0       0.77      0.79      0.78       112\n",
            "           1       0.81      0.79      0.80       131\n",
            "\n",
            "    accuracy                           0.79       243\n",
            "   macro avg       0.79      0.79      0.79       243\n",
            "weighted avg       0.79      0.79      0.79       243\n",
            "\n"
          ]
        }
      ]
    },
    {
      "cell_type": "code",
      "source": [
        "baseline_lgbm = LGBMClassifier(learning_rate=0.1, n_estimators=100,max_depth=3,\n",
        "                               min_samples_leaf=1, subsample=1,random_state=10)\n",
        "baseline_lgbm.fit(X_train,y_train)\n",
        "predictors_lgbm=list(X_train)\n",
        "\n",
        "print('Accuracy of the LGBM on test set: {:.3f}'.format(baseline_lgbm.score(X_test, y_test)))\n",
        "pred_lgbm=baseline_lgbm.predict(X_test)\n",
        "print(classification_report(y_test, pred_lgbm))\n"
      ],
      "metadata": {
        "colab": {
          "base_uri": "https://localhost:8080/"
        },
        "id": "8nMbfkaIfrt3",
        "outputId": "bbee4df9-2265-4bdf-d0d5-cbb0c9693517"
      },
      "execution_count": 24,
      "outputs": [
        {
          "output_type": "stream",
          "name": "stdout",
          "text": [
            "[LightGBM] [Warning] min_data_in_leaf is set with min_samples_leaf=1, min_child_samples=20 will be ignored. Current value: min_data_in_leaf=1\n",
            "Accuracy of the LGBM on test set: 0.765\n",
            "              precision    recall  f1-score   support\n",
            "\n",
            "           0       0.73      0.78      0.75       112\n",
            "           1       0.80      0.76      0.78       131\n",
            "\n",
            "    accuracy                           0.77       243\n",
            "   macro avg       0.76      0.77      0.76       243\n",
            "weighted avg       0.77      0.77      0.77       243\n",
            "\n"
          ]
        }
      ]
    },
    {
      "cell_type": "markdown",
      "source": [
        "Model Tuning"
      ],
      "metadata": {
        "id": "C1fAyfi3TBkp"
      }
    },
    {
      "cell_type": "code",
      "source": [
        "p_test3 = {'learning_rate':[0.15,0.1,0.05,0.01,0.005,0.001], 'n_estimators':[50,100,250,500,750,1000,1250,1500,1750]}\n",
        "\n",
        "tuning = GridSearchCV(estimator = GradientBoostingClassifier(max_depth=4, min_samples_split=2, min_samples_leaf=1,\n",
        "                                                            subsample=1,max_features='sqrt', random_state=10),\n",
        "                                                            param_grid = p_test3, scoring='accuracy',n_jobs=4,\n",
        "                                                            cv=5)\n",
        "tuning.fit(X_train,y_train)\n",
        "tuning.best_params_, tuning.best_score_\n",
        "learning_rate_gbm = tuning.best_params_.get(\"learning_rate\")\n",
        "n_estimators_gbm = tuning.best_params_.get(\"n_estimators\")"
      ],
      "metadata": {
        "id": "9kP21dMufyZN"
      },
      "execution_count": 34,
      "outputs": []
    },
    {
      "cell_type": "code",
      "source": [
        "p_test3a = {'learning_rate':[0.15,0.1,0.05,0.01,0.005,0.001], 'n_estimators':[50,100,250,500,750,1000,1250,1500,1750]}\n",
        "\n",
        "tuning = GridSearchCV(estimator =LGBMClassifier(max_depth=4, min_samples_leaf=1,\n",
        "                                                subsample=1, random_state=10),\n",
        "                                                param_grid = p_test3a, scoring='accuracy',n_jobs=4,\n",
        "                                                cv=5)\n",
        "tuning.fit(X_train,y_train)\n",
        "tuning.best_params_, tuning.best_score_\n",
        "learning_rate_lgbm = tuning.best_params_.get(\"learning_rate\")\n",
        "n_estimators_lgbm = tuning.best_params_.get(\"n_estimators\")"
      ],
      "metadata": {
        "colab": {
          "base_uri": "https://localhost:8080/"
        },
        "id": "_9NRGw5yjCkt",
        "outputId": "f49edea8-f482-4def-aa9b-d2711445d2bd"
      },
      "execution_count": 36,
      "outputs": [
        {
          "output_type": "stream",
          "name": "stdout",
          "text": [
            "[LightGBM] [Warning] min_data_in_leaf is set with min_samples_leaf=1, min_child_samples=20 will be ignored. Current value: min_data_in_leaf=1\n"
          ]
        }
      ]
    },
    {
      "cell_type": "code",
      "source": [
        "p_test2 = {'max_depth':[2,3,4,5,6,7] }\n",
        "tuning = GridSearchCV(estimator =GradientBoostingClassifier(learning_rate=learning_rate_gbm,n_estimators=n_estimators_gbm,\n",
        "                                                            min_samples_split=2,\n",
        "                                                            min_samples_leaf=1, subsample=1,max_features='sqrt',\n",
        "                                                            random_state=10),\n",
        "                                                            param_grid = p_test2, scoring='accuracy',n_jobs=4,\n",
        "                                                             cv=5)\n",
        "tuning.fit(X_train,y_train)\n",
        "tuning.best_params_, tuning.best_score_\n",
        "max_depth_gbm = tuning.best_params_.get(\"max_depth\")"
      ],
      "metadata": {
        "id": "vHeuXiBZjJQm"
      },
      "execution_count": 37,
      "outputs": []
    },
    {
      "cell_type": "code",
      "source": [
        "p_test2a = {'max_depth':[2,3,4,5,6,7] }\n",
        "tuning = GridSearchCV(estimator =LGBMClassifier(learning_rate=learning_rate_lgbm,n_estimators=n_estimators_lgbm,\n",
        "                                                min_samples_leaf=1, subsample=1, random_state=10),\n",
        "                                                param_grid = p_test2, scoring='accuracy',n_jobs=4,\n",
        "                                     cv=5)\n",
        "tuning.fit(X_train,y_train)\n",
        "tuning.best_params_, tuning.best_score_\n",
        "max_depth_lgbm = tuning.best_params_.get(\"max_depth\")"
      ],
      "metadata": {
        "id": "NvB6stFQjQDQ"
      },
      "execution_count": 39,
      "outputs": []
    },
    {
      "cell_type": "code",
      "source": [
        "model1 = GradientBoostingClassifier(learning_rate=learning_rate_gbm, n_estimators=n_estimators_gbm,max_depth=max_depth_gbm,\n",
        "                                    min_samples_split=2,\n",
        "                                    min_samples_leaf=1, subsample=1,max_features='sqrt', random_state=10)\n",
        "model1.fit(X_train,y_train)\n",
        "predictors=list(X_train)\n",
        "\n",
        "print('Accuracy of the GBM on test set: {:.3f}'.format(model1.score(X_test, y_test)))\n",
        "pred=model1.predict(X_test)\n",
        "print(classification_report(y_test, pred))"
      ],
      "metadata": {
        "colab": {
          "base_uri": "https://localhost:8080/"
        },
        "id": "7FF-3Cy7r26B",
        "outputId": "138ac5ea-6eb5-4865-9ec3-c99b65214f6f"
      },
      "execution_count": 40,
      "outputs": [
        {
          "output_type": "stream",
          "name": "stdout",
          "text": [
            "Accuracy of the GBM on test set: 0.786\n",
            "              precision    recall  f1-score   support\n",
            "\n",
            "           0       0.77      0.77      0.77       112\n",
            "           1       0.80      0.80      0.80       131\n",
            "\n",
            "    accuracy                           0.79       243\n",
            "   macro avg       0.78      0.78      0.78       243\n",
            "weighted avg       0.79      0.79      0.79       243\n",
            "\n"
          ]
        }
      ]
    },
    {
      "cell_type": "code",
      "source": [
        "model1_lgbm = LGBMClassifier(learning_rate=learning_rate_lgbm, n_estimators=n_estimators_lgbm,max_depth=max_depth_lgbm,\n",
        "                             min_samples_leaf=1, subsample=1, random_state=10)\n",
        "model1_lgbm.fit(X_train,y_train)\n",
        "predictors=list(X_train)\n",
        "\n",
        "print('Accuracy of the LGBM on test set: {:.3f}'.format(model1_lgbm.score(X_test, y_test)))\n",
        "pred=model1_lgbm.predict(X_test)\n",
        "print(classification_report(y_test, pred))\n"
      ],
      "metadata": {
        "colab": {
          "base_uri": "https://localhost:8080/"
        },
        "id": "LXz79y59r5m8",
        "outputId": "7622fdde-4c77-4cf3-de0f-ee8fed7f1b52"
      },
      "execution_count": 41,
      "outputs": [
        {
          "output_type": "stream",
          "name": "stdout",
          "text": [
            "Accuracy of the LGBM on test set: 0.770\n",
            "              precision    recall  f1-score   support\n",
            "\n",
            "           0       0.74      0.78      0.76       112\n",
            "           1       0.80      0.76      0.78       131\n",
            "\n",
            "    accuracy                           0.77       243\n",
            "   macro avg       0.77      0.77      0.77       243\n",
            "weighted avg       0.77      0.77      0.77       243\n",
            "\n"
          ]
        }
      ]
    },
    {
      "cell_type": "code",
      "source": [
        "p_test4 = {'min_samples_split':[2,4,6,8,10,20,40,60,100], 'min_samples_leaf':[1,3,5,7,9]}\n",
        "\n",
        "tuning = GridSearchCV(estimator =GradientBoostingClassifier(learning_rate=learning_rate_gbm, n_estimators=n_estimators_gbm,\n",
        "                                                            max_depth=max_depth_gbm,\n",
        "                                                            subsample=1,max_features='sqrt', random_state=10),\n",
        "                                                            param_grid = p_test4, scoring='accuracy',n_jobs=4,\n",
        "                                                            cv=5)\n",
        "tuning.fit(X_train,y_train)\n",
        "tuning.best_params_, tuning.best_score_\n",
        "min_samples_leaf_gbm = tuning.best_params_.get(\"min_samples_leaf\")"
      ],
      "metadata": {
        "id": "EjsPESl7sEEv"
      },
      "execution_count": 43,
      "outputs": []
    },
    {
      "cell_type": "code",
      "source": [
        "p_test4a = {'min_samples_leaf':[1,3,5,7,9]}\n",
        "\n",
        "tuning = GridSearchCV(estimator =LGBMClassifier(learning_rate=learning_rate_lgbm, n_estimators=n_estimators_lgbm,\n",
        "                                                max_depth=max_depth_lgbm,\n",
        "                                                subsample=1, random_state=10),\n",
        "                                                param_grid = p_test4a, scoring='accuracy',n_jobs=4,\n",
        "                                                cv=5)\n",
        "tuning.fit(X_train,y_train)\n",
        "tuning.best_params_, tuning.best_score_\n",
        "min_samples_leaf_lgbm = tuning.best_params_.get(\"min_samples_leaf\")"
      ],
      "metadata": {
        "colab": {
          "base_uri": "https://localhost:8080/"
        },
        "id": "gjJwcV8RsI0I",
        "outputId": "7fffad46-c158-47dc-8668-9551cb95b7a9"
      },
      "execution_count": 44,
      "outputs": [
        {
          "output_type": "stream",
          "name": "stdout",
          "text": [
            "[LightGBM] [Warning] min_data_in_leaf is set with min_samples_leaf=5, min_child_samples=20 will be ignored. Current value: min_data_in_leaf=5\n"
          ]
        }
      ]
    },
    {
      "cell_type": "code",
      "source": [
        "p_test5 = {'max_features':[2,3,4,5,6,7]}\n",
        "tuning = GridSearchCV(estimator =GradientBoostingClassifier(learning_rate=learning_rate_gbm, n_estimators=n_estimators_gbm,\n",
        "                                                            max_depth=max_depth_gbm,\n",
        "                                                            min_samples_split=20, min_samples_leaf=min_samples_leaf_gbm,\n",
        "                                                            subsample=1,\n",
        "                                                            random_state=10), param_grid = p_test5, scoring='accuracy',\n",
        "                                                            n_jobs=4, cv=5)\n",
        "tuning.fit(X_train,y_train)\n",
        "tuning.best_params_, tuning.best_score_\n",
        "max_features_gbm = tuning.best_params_.get(\"max_features\")"
      ],
      "metadata": {
        "id": "G63ukM3QsRhp"
      },
      "execution_count": 46,
      "outputs": []
    },
    {
      "cell_type": "code",
      "source": [
        "p_test6= {'subsample':[0.7,0.75,0.8,0.85,0.9,0.95,1]}\n",
        "\n",
        "tuning = GridSearchCV(estimator =GradientBoostingClassifier(learning_rate=learning_rate_gbm, n_estimators=n_estimators_gbm,\n",
        "                                                            max_depth=max_depth_gbm,\n",
        "                                                            min_samples_split=20, min_samples_leaf=min_samples_leaf_gbm,\n",
        "                                                            max_features=max_features_gbm ,\n",
        "                                                            random_state=10), param_grid = p_test6, scoring='accuracy',\n",
        "                                                            n_jobs=4, cv=5)\n",
        "tuning.fit(X_train,y_train)\n",
        "tuning.best_params_, tuning.best_score_\n",
        "subsample_gbm = tuning.best_params_.get(\"subsample\")"
      ],
      "metadata": {
        "id": "dNzWnItZsSjz"
      },
      "execution_count": 47,
      "outputs": []
    },
    {
      "cell_type": "code",
      "source": [
        "p_test6a= {'subsample':[0.7,0.75,0.8,0.85,0.9,0.95,1]}\n",
        "\n",
        "tuning = GridSearchCV(estimator =LGBMClassifier(learning_rate=learning_rate_lgbm, n_estimators=n_estimators_lgbm,\n",
        "                                                max_depth=max_depth_lgbm,\n",
        "                                                min_samples_leaf=min_samples_leaf_lgbm,\n",
        "                                                random_state=10), param_grid = p_test6, scoring='accuracy',\n",
        "                                                n_jobs=4, cv=5)\n",
        "tuning.fit(X_train,y_train)\n",
        "tuning.best_params_, tuning.best_score_\n",
        "subsample_lgbm = tuning.best_params_.get(\"subsample\")"
      ],
      "metadata": {
        "id": "0guEGcI1sgb0"
      },
      "execution_count": 48,
      "outputs": []
    },
    {
      "cell_type": "code",
      "source": [
        "p_test7= {'random_state':list(range(0,101,2))}\n",
        "\n",
        "tuning = GridSearchCV(estimator =GradientBoostingClassifier(learning_rate=learning_rate_gbm, n_estimators=n_estimators_gbm,\n",
        "                                                            max_depth=max_depth_gbm,\n",
        "                                                            min_samples_split=20, min_samples_leaf=min_samples_leaf_gbm,\n",
        "                                                            max_features=max_features_gbm ,\n",
        "                                                            subsample=subsample_gbm), param_grid = p_test7,\n",
        "                                                            scoring='accuracy',\n",
        "                                                            n_jobs=4, cv=5)\n",
        "tuning.fit(X_train,y_train)\n",
        "tuning.best_params_, tuning.best_score_\n",
        "random_state_gbm = tuning.best_params_.get(\"random_state\")"
      ],
      "metadata": {
        "id": "CXTDVqqIslIF"
      },
      "execution_count": 49,
      "outputs": []
    },
    {
      "cell_type": "code",
      "source": [
        "p_test7a= {'random_state':list(range(0,101,2))}\n",
        "\n",
        "tuning = GridSearchCV(estimator =LGBMClassifier(learning_rate=learning_rate_lgbm, n_estimators=n_estimators_lgbm,\n",
        "                                                max_depth=max_depth_lgbm, min_samples_leaf=min_samples_leaf_lgbm,\n",
        "                                                subsample=subsample_lgbm), param_grid = p_test7a, scoring='accuracy',\n",
        "                                                n_jobs=4, cv=5)\n",
        "tuning.fit(X_train,y_train)\n",
        "tuning.best_params_, tuning.best_score_\n",
        "random_state_lgbm = tuning.best_params_.get(\"random_state\")"
      ],
      "metadata": {
        "id": "IoE5vjoVsoZM"
      },
      "execution_count": 50,
      "outputs": []
    },
    {
      "cell_type": "code",
      "source": [
        "a1, a2, a3, a4, a5, a6, a7, a8 = [], [], [], [], [], [], [], []\n",
        "\n",
        "a1.append('GBM')\n",
        "a2.append(learning_rate_gbm)\n",
        "a3.append(n_estimators_gbm)\n",
        "a4.append(max_depth_gbm)\n",
        "a5.append(min_samples_leaf_gbm)\n",
        "a6.append(max_features_gbm)\n",
        "a7.append(subsample_gbm)\n",
        "a8.append(random_state_gbm)\n",
        "\n",
        "opt_par = pd.DataFrame({'Name': a1, 'learning_rate': a2, 'n_estimators': a3,\n",
        "                         'max_depth': a4, 'min_samples_leaf': a5, 'max_features': a6,\n",
        "                         'subsample_gbm': a7, 'random_state': a8})"
      ],
      "metadata": {
        "id": "kttWLLFosxXr"
      },
      "execution_count": 51,
      "outputs": []
    },
    {
      "cell_type": "code",
      "source": [
        "a1.append('LGBM')\n",
        "a2.append(learning_rate_lgbm)\n",
        "a3.append(n_estimators_lgbm)\n",
        "a4.append(max_depth_lgbm)\n",
        "a5.append(min_samples_leaf_lgbm)\n",
        "a6.append('--')\n",
        "a7.append(subsample_lgbm)\n",
        "a8.append(random_state_lgbm)\n",
        "\n",
        "opt_par = pd.DataFrame({'Name': a1, 'learning_rate': a2, 'n_estimators': a3,\n",
        "                         'max_depth': a4, 'min_samples_leaf': a5, 'max_features': a6,\n",
        "                         'subsample_gbm': a7, 'random_state': a8})\n"
      ],
      "metadata": {
        "id": "w8W45h2ts_Op"
      },
      "execution_count": 52,
      "outputs": []
    },
    {
      "cell_type": "code",
      "source": [
        "opt_par"
      ],
      "metadata": {
        "colab": {
          "base_uri": "https://localhost:8080/",
          "height": 112
        },
        "id": "it-MM-XltVp3",
        "outputId": "c7b0d454-8bf9-44ef-82ba-6b4d8c821a98"
      },
      "execution_count": 53,
      "outputs": [
        {
          "output_type": "execute_result",
          "data": {
            "text/plain": [
              "   Name  learning_rate  n_estimators  max_depth  min_samples_leaf  \\\n",
              "0   GBM           0.05           100          4                 1   \n",
              "1  LGBM           0.01          1000          3                 5   \n",
              "\n",
              "  max_features  subsample_gbm  random_state  \n",
              "0            3           0.85            66  \n",
              "1           --           0.70             0  "
            ],
            "text/html": [
              "\n",
              "  <div id=\"df-d1aa5673-12cd-43c2-be53-5e063ae1784a\">\n",
              "    <div class=\"colab-df-container\">\n",
              "      <div>\n",
              "<style scoped>\n",
              "    .dataframe tbody tr th:only-of-type {\n",
              "        vertical-align: middle;\n",
              "    }\n",
              "\n",
              "    .dataframe tbody tr th {\n",
              "        vertical-align: top;\n",
              "    }\n",
              "\n",
              "    .dataframe thead th {\n",
              "        text-align: right;\n",
              "    }\n",
              "</style>\n",
              "<table border=\"1\" class=\"dataframe\">\n",
              "  <thead>\n",
              "    <tr style=\"text-align: right;\">\n",
              "      <th></th>\n",
              "      <th>Name</th>\n",
              "      <th>learning_rate</th>\n",
              "      <th>n_estimators</th>\n",
              "      <th>max_depth</th>\n",
              "      <th>min_samples_leaf</th>\n",
              "      <th>max_features</th>\n",
              "      <th>subsample_gbm</th>\n",
              "      <th>random_state</th>\n",
              "    </tr>\n",
              "  </thead>\n",
              "  <tbody>\n",
              "    <tr>\n",
              "      <th>0</th>\n",
              "      <td>GBM</td>\n",
              "      <td>0.05</td>\n",
              "      <td>100</td>\n",
              "      <td>4</td>\n",
              "      <td>1</td>\n",
              "      <td>3</td>\n",
              "      <td>0.85</td>\n",
              "      <td>66</td>\n",
              "    </tr>\n",
              "    <tr>\n",
              "      <th>1</th>\n",
              "      <td>LGBM</td>\n",
              "      <td>0.01</td>\n",
              "      <td>1000</td>\n",
              "      <td>3</td>\n",
              "      <td>5</td>\n",
              "      <td>--</td>\n",
              "      <td>0.70</td>\n",
              "      <td>0</td>\n",
              "    </tr>\n",
              "  </tbody>\n",
              "</table>\n",
              "</div>\n",
              "      <button class=\"colab-df-convert\" onclick=\"convertToInteractive('df-d1aa5673-12cd-43c2-be53-5e063ae1784a')\"\n",
              "              title=\"Convert this dataframe to an interactive table.\"\n",
              "              style=\"display:none;\">\n",
              "        \n",
              "  <svg xmlns=\"http://www.w3.org/2000/svg\" height=\"24px\"viewBox=\"0 0 24 24\"\n",
              "       width=\"24px\">\n",
              "    <path d=\"M0 0h24v24H0V0z\" fill=\"none\"/>\n",
              "    <path d=\"M18.56 5.44l.94 2.06.94-2.06 2.06-.94-2.06-.94-.94-2.06-.94 2.06-2.06.94zm-11 1L8.5 8.5l.94-2.06 2.06-.94-2.06-.94L8.5 2.5l-.94 2.06-2.06.94zm10 10l.94 2.06.94-2.06 2.06-.94-2.06-.94-.94-2.06-.94 2.06-2.06.94z\"/><path d=\"M17.41 7.96l-1.37-1.37c-.4-.4-.92-.59-1.43-.59-.52 0-1.04.2-1.43.59L10.3 9.45l-7.72 7.72c-.78.78-.78 2.05 0 2.83L4 21.41c.39.39.9.59 1.41.59.51 0 1.02-.2 1.41-.59l7.78-7.78 2.81-2.81c.8-.78.8-2.07 0-2.86zM5.41 20L4 18.59l7.72-7.72 1.47 1.35L5.41 20z\"/>\n",
              "  </svg>\n",
              "      </button>\n",
              "      \n",
              "  <style>\n",
              "    .colab-df-container {\n",
              "      display:flex;\n",
              "      flex-wrap:wrap;\n",
              "      gap: 12px;\n",
              "    }\n",
              "\n",
              "    .colab-df-convert {\n",
              "      background-color: #E8F0FE;\n",
              "      border: none;\n",
              "      border-radius: 50%;\n",
              "      cursor: pointer;\n",
              "      display: none;\n",
              "      fill: #1967D2;\n",
              "      height: 32px;\n",
              "      padding: 0 0 0 0;\n",
              "      width: 32px;\n",
              "    }\n",
              "\n",
              "    .colab-df-convert:hover {\n",
              "      background-color: #E2EBFA;\n",
              "      box-shadow: 0px 1px 2px rgba(60, 64, 67, 0.3), 0px 1px 3px 1px rgba(60, 64, 67, 0.15);\n",
              "      fill: #174EA6;\n",
              "    }\n",
              "\n",
              "    [theme=dark] .colab-df-convert {\n",
              "      background-color: #3B4455;\n",
              "      fill: #D2E3FC;\n",
              "    }\n",
              "\n",
              "    [theme=dark] .colab-df-convert:hover {\n",
              "      background-color: #434B5C;\n",
              "      box-shadow: 0px 1px 3px 1px rgba(0, 0, 0, 0.15);\n",
              "      filter: drop-shadow(0px 1px 2px rgba(0, 0, 0, 0.3));\n",
              "      fill: #FFFFFF;\n",
              "    }\n",
              "  </style>\n",
              "\n",
              "      <script>\n",
              "        const buttonEl =\n",
              "          document.querySelector('#df-d1aa5673-12cd-43c2-be53-5e063ae1784a button.colab-df-convert');\n",
              "        buttonEl.style.display =\n",
              "          google.colab.kernel.accessAllowed ? 'block' : 'none';\n",
              "\n",
              "        async function convertToInteractive(key) {\n",
              "          const element = document.querySelector('#df-d1aa5673-12cd-43c2-be53-5e063ae1784a');\n",
              "          const dataTable =\n",
              "            await google.colab.kernel.invokeFunction('convertToInteractive',\n",
              "                                                     [key], {});\n",
              "          if (!dataTable) return;\n",
              "\n",
              "          const docLinkHtml = 'Like what you see? Visit the ' +\n",
              "            '<a target=\"_blank\" href=https://colab.research.google.com/notebooks/data_table.ipynb>data table notebook</a>'\n",
              "            + ' to learn more about interactive tables.';\n",
              "          element.innerHTML = '';\n",
              "          dataTable['output_type'] = 'display_data';\n",
              "          await google.colab.output.renderOutput(dataTable, element);\n",
              "          const docLink = document.createElement('div');\n",
              "          docLink.innerHTML = docLinkHtml;\n",
              "          element.appendChild(docLink);\n",
              "        }\n",
              "      </script>\n",
              "    </div>\n",
              "  </div>\n",
              "  "
            ]
          },
          "metadata": {},
          "execution_count": 53
        }
      ]
    },
    {
      "cell_type": "markdown",
      "source": [
        "Evaluation of final model on test data"
      ],
      "metadata": {
        "id": "xkhGSpGyTUkg"
      }
    },
    {
      "cell_type": "code",
      "source": [
        "new=GradientBoostingClassifier(learning_rate=learning_rate_gbm, n_estimators=n_estimators_gbm,\n",
        "                               max_depth=max_depth_gbm, min_samples_split=20, min_samples_leaf=min_samples_leaf_gbm,\n",
        "                               max_features=max_features_gbm, subsample=subsample_gbm, random_state=random_state_gbm)\n",
        "new.fit(X_train,y_train)\n",
        "predictors=list(X_train)\n",
        "# feat_imp = pd.Series(new.feature_importances_, predictors).sort_values(ascending=False)\n",
        "# feat_imp.plot(kind='bar', title='Importance of Features')\n",
        "# plt.ylabel('Feature Importance Score')\n",
        "print('Accuracy of the GBM on test set: {:.3f}'.format(new.score(X_test, y_test)))\n",
        "pred=new.predict(X_test)\n",
        "print(classification_report(y_test, pred))"
      ],
      "metadata": {
        "colab": {
          "base_uri": "https://localhost:8080/"
        },
        "id": "pnzyKlhYtYCJ",
        "outputId": "7dc60fbb-3cd3-4d8c-f217-1322490eef0c"
      },
      "execution_count": 54,
      "outputs": [
        {
          "output_type": "stream",
          "name": "stdout",
          "text": [
            "Accuracy of the GBM on test set: 0.778\n",
            "              precision    recall  f1-score   support\n",
            "\n",
            "           0       0.74      0.79      0.77       112\n",
            "           1       0.81      0.76      0.79       131\n",
            "\n",
            "    accuracy                           0.78       243\n",
            "   macro avg       0.78      0.78      0.78       243\n",
            "weighted avg       0.78      0.78      0.78       243\n",
            "\n"
          ]
        }
      ]
    },
    {
      "cell_type": "code",
      "source": [
        "new_lgbm=LGBMClassifier(learning_rate=learning_rate_lgbm, n_estimators=n_estimators_lgbm,max_depth=max_depth_lgbm,\n",
        "                        min_samples_leaf=min_samples_leaf_lgbm, subsample=subsample_lgbm, random_state=random_state_lgbm)\n",
        "new_lgbm.fit(X_train,y_train)\n",
        "predictors=list(X_train)\n",
        "# feat_imp = pd.Series(new_lgbm.feature_importances_, predictors).sort_values(ascending=False)\n",
        "# feat_imp.plot(kind='bar', title='Importance of Features')\n",
        "# plt.ylabel('Feature Importance Score')\n",
        "print('Accuracy of the LGBM on test set: {:.3f}'.format(new_lgbm.score(X_test, y_test)))\n",
        "pred=new_lgbm.predict(X_test)\n",
        "#print(y_test)\n",
        "print(classification_report(y_test, pred))"
      ],
      "metadata": {
        "colab": {
          "base_uri": "https://localhost:8080/"
        },
        "id": "cuZGHVpUtZiQ",
        "outputId": "a0088084-eb84-4ac0-8b5d-1cc27b84c6ed"
      },
      "execution_count": 58,
      "outputs": [
        {
          "output_type": "stream",
          "name": "stdout",
          "text": [
            "[LightGBM] [Warning] min_data_in_leaf is set with min_samples_leaf=5, min_child_samples=20 will be ignored. Current value: min_data_in_leaf=5\n",
            "Accuracy of the LGBM on test set: 0.765\n",
            "517     0\n",
            "779     1\n",
            "193     0\n",
            "1204    1\n",
            "808     1\n",
            "       ..\n",
            "224     0\n",
            "374     0\n",
            "860     1\n",
            "1104    1\n",
            "1069    1\n",
            "Name: Landslide, Length: 243, dtype: int64\n",
            "              precision    recall  f1-score   support\n",
            "\n",
            "           0       0.73      0.78      0.75       112\n",
            "           1       0.80      0.76      0.78       131\n",
            "\n",
            "    accuracy                           0.77       243\n",
            "   macro avg       0.76      0.77      0.76       243\n",
            "weighted avg       0.77      0.77      0.77       243\n",
            "\n"
          ]
        }
      ]
    },
    {
      "cell_type": "markdown",
      "source": [
        "Comparison of ROC AUC\n"
      ],
      "metadata": {
        "id": "eF_Tc5D0ThGj"
      }
    },
    {
      "cell_type": "code",
      "source": [
        "from sklearn import metrics\n",
        "from sklearn.metrics import roc_auc_score\n",
        "from sklearn.metrics import roc_curve\n",
        "\n",
        "\n",
        "#run models\n",
        "baseline = GradientBoostingClassifier(learning_rate=0.1, n_estimators=100,max_depth=3, min_samples_split=2,\n",
        "                                      min_samples_leaf=1, subsample=1,max_features='sqrt', random_state=10)\n",
        "baseline.fit(X_train,y_train)\n",
        "\n",
        "model1 = GradientBoostingClassifier(learning_rate=learning_rate_gbm, n_estimators=n_estimators_gbm,max_depth=max_depth_gbm,\n",
        "                                    min_samples_split=2,\n",
        "                                    min_samples_leaf=1, subsample=1,max_features='sqrt', random_state=10)\n",
        "model1.fit(X_train,y_train)\n",
        "\n",
        "new=GradientBoostingClassifier(learning_rate=learning_rate_gbm, n_estimators=n_estimators_gbm,\n",
        "                               max_depth=max_depth_gbm, min_samples_split=20, min_samples_leaf=min_samples_leaf_gbm,\n",
        "                               max_features=max_features_gbm, subsample=subsample_gbm, random_state=random_state_gbm)\n",
        "new.fit(X_train,y_train)\n",
        "baseline_roc_auc = roc_auc_score(y_test, baseline.predict(X_test))\n",
        "fprB, tprB, thresholdsB = roc_curve(y_test, baseline.predict_proba(X_test)[:,1])\n",
        "#model 1\n",
        "model1_roc_auc = roc_auc_score(y_test, model1.predict(X_test))\n",
        "fpr1, tpr1, thresholds1 = roc_curve(y_test, model1.predict_proba(X_test)[:,1])\n",
        "#new tuned model\n",
        "new_roc_auc = roc_auc_score(y_test, new.predict(X_test))\n",
        "fprnew, tprnew, thresholds_new = roc_curve(y_test, new.predict_proba(X_test)[:,1])\n",
        "\n",
        "plt.figure()\n",
        "plt.plot(fprB, tprB, label='GBM Baseline (area = %0.2f)' % baseline_roc_auc)\n",
        "plt.plot(fpr1, tpr1, label='GBM Model 1 (area = %0.2f)' % model1_roc_auc)\n",
        "plt.plot(fprnew, tprnew, label='GBM Final Model (area = %0.2f)' % new_roc_auc)\n",
        "\n",
        "plt.plot([0, 1], [0, 1],'r--')\n",
        "plt.xlim([0.0, 1.0])\n",
        "plt.ylim([0.0, 1.05])\n",
        "plt.xlabel('False Positive Rate')\n",
        "plt.ylabel('True Positive Rate')\n",
        "plt.title('Receiver Operating Characteristic of GBM')\n",
        "plt.legend(loc=\"lower right\")\n",
        "plt.savefig('Log_ROC')\n",
        "plt.show()\n",
        "\n",
        "plt.savefig('roc1.eps', format='eps')"
      ],
      "metadata": {
        "colab": {
          "base_uri": "https://localhost:8080/",
          "height": 498
        },
        "id": "4LN6JYWotiF7",
        "outputId": "181fabf7-5339-4313-efe9-277b6f5ac851"
      },
      "execution_count": 56,
      "outputs": [
        {
          "output_type": "display_data",
          "data": {
            "text/plain": [
              "<Figure size 640x480 with 1 Axes>"
            ],
            "image/png": "[encoded data removed]"
          },
          "metadata": {}
        },
        {
          "output_type": "display_data",
          "data": {
            "text/plain": [
              "<Figure size 640x480 with 0 Axes>"
            ]
          },
          "metadata": {}
        }
      ]
    },
    {
      "cell_type": "code",
      "source": [
        "print('Accuracy of the GBM on test set for Baseline Model: {:.3f}'.format(baseline.score(X_test, y_test)))\n",
        "print('Accuracy of the GBM on test set for Model1: {:.3f}'.format(model1.score(X_test, y_test)))\n",
        "print('Accuracy of the GBM on test set for New Model: {:.3f}'.format(new.score(X_test, y_test)))"
      ],
      "metadata": {
        "colab": {
          "base_uri": "https://localhost:8080/"
        },
        "id": "sxjqBwHatzY8",
        "outputId": "a136e74d-bac9-45f7-ab0a-5a7583a2b989"
      },
      "execution_count": 57,
      "outputs": [
        {
          "output_type": "stream",
          "name": "stdout",
          "text": [
            "Accuracy of the GBM on test set for Baseline Model: 0.790\n",
            "Accuracy of the GBM on test set for Model1: 0.786\n",
            "Accuracy of the GBM on test set for New Model: 0.778\n"
          ]
        }
      ]
    }
  ]
}